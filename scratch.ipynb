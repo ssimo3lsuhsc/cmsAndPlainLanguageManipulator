{
 "cells": [
  {
   "cell_type": "code",
   "execution_count": 40,
   "metadata": {
    "collapsed": true
   },
   "outputs": [
    {
     "name": "stdout",
     "output_type": "stream",
     "text": [
      "<link href=\"/css/hdc_style_utils.css\" rel=\"stylesheet\" type=\"text/css\" /><script src=\"/js/moment-with-locales.min.js\"></script><script src=\"/js/iframe-resizer-master/js/iframeResizer.min.js\"></script> <main aria-labelledby=\"lend_heading\">     <div class=\"textContainer\" data-ng-controller=\"lendHomepageController\">         <h1 id=\"lend_heading\">Louisiana LEND</h1>          <p><img alt=\"Child having fun with two scholars\" src=\"/lend/images/img_6450 blur background.png\" style=\"width: 600px; height: 390px;\" /></p>          <p class=\"h3 blue-byline\">Preparing future leaders to prioritize the needs of children with ASD and other developmental disabilities through advocacy, family engagement, and Maternal Child Health principles.</p>          <p class=\"h3 blue-byline\">&#160;</p>          <section aria-labelledby=\"lend_applications_open_heading\">             <div style=\"background:#eee;border:1px solid #ccc;padding:5px 10px;\">                 <h2 class=\"h3 blue-byline\" id=\"lend_applications_open_heading\">LEND 2023-2024 Applications Now Open!!!</h2>                  <p>LEND applications for the 2023-2024 cohort are due on April 15, 2023.</p>                  <p><a class=\"btn btn-lg btn-primary\" href=\"https://www.jotform.com/assign/220185508752153/230676139700051\" target=\"_blank\">Apply for LEND</a></p>                  <p>Not sure if LEND is right for you?</p>                  <p><a class=\"btn btn-lg btn-primary\" href=\"https://form.jotform.com/230383686095161\" target=\"_blank\">Express Interest in LEND</a></p>             </div>              <p style=\"margin-top: 3em;\"><iframe allow=\"autoplay; fullscreen\" allowfullscreen=\"\" frameborder=\"0\" height=\"315\" id=\"iframe_container\" mozallowfullscreen=\"\" src=\"https://prezi.com/v/embed/yf_jxmtxcppw/\" webkitallowfullscreen=\"\" width=\"560\"></iframe></p>         </section>          <section aria-labelledby=\"what_is_lend_heading\">             <h2 id=\"what_is_lend_heading\">What is LEND?</h2>              <p>The Leadership Education in Neurodevelopmental and Related Disabilities (LEND) is a nine-month interdisciplinary training program that incorporates both didactic and experiential learning in clinical and community-based settings. LA LEND prepares graduate students, family members, self-advocates, and practicing professionals to become future leaders in designing and implementing services, policies, advocacy, and consuming/conducting research and evaluation addressing the needs and priorities of children with autism spectrum disorders (ASD), other neurodevelopmental disabilities (NDD) and developmental disabilities (DD) and their families.</p>             <iframe allow=\"accelerometer; autoplay; clipboard-write; encrypted-media; gyroscope; picture-in-picture; web-share\" allowfullscreen=\"allowfullscreen\" frameborder=\"0\" height=\"315\" src=\"https://www.youtube.com/embed/videoseries?list=PLIHGRoeOVB1Ps_wAfF-EXETZoRJHbjupv\" title=\"YouTube video player\" width=\"560\"></iframe>              <p>There are&#160;<a href=\"https://mchb.hrsa.gov/training/projects.asp?program=9\" target=\"_blank\">60 LEND programs</a>&#160;in every state, the District of Columbia, the United States Virgin Islands, Puerto Rico, and six Pacific Basin jurisdictions, either as an awardee or in partnership with a LEND program.&#160;As a LEND scholar, you will be connected to a national network of other programs throughout the nation. The Human Development Center leads the Louisiana LEND program. <a href=\"https://www.aucd.org/template/page.cfm?id=473\" target=\"_blank\">Learn more about the LEND programs from the Association of University Centers on Disabilities (AUCD) here</a>.</p>              <figure class=\"bg-light p-3\">                 <blockquote>                     <p>&#8220;Too often professionals and parents do things to just get by, thereby perpetuating the status quo. If we are going to move the disability community forward, it&#8217;s imperative that we do so with the highest standards and I believe LEND supports that.</p>                 </blockquote>                  <figcaption class=\"blockquote-footer text-primary\">Nicole DeJean, 2021 LEND scholar</figcaption>             </figure>              <p>LEND improves your knowledge and skills related to:</p>              <ul>                 <li><em>Autism Spectrum Disorder(ASD) other Neuro- and Developmental Disabilities (NDD/DD)</em></li>                 <li><em>Social Determinants of Health</em></li>                 <li><em>Life Course Theory</em></li>                 <li><em>Interdisciplinary thinking and practice</em></li>                 <li><em>Family- and person-centered care</em> &#160;</li>                 <li><em>Leadership&#160;</em> <em>and advocacy skills</em></li>             </ul>              <div class=\"container-fluid mt-3 mb-3\">                 <div class=\"row justify-content-center gy-3\" ><a id=\"graduate_perspective_video\" class=\"d-block col-6\" href=\"https://youtu.be/iZYnKInG5zU\" target=\"_blank\"><img alt=\"Graduate students' perspectives on LEND: YouTube link\" class=\"img-fluid\" src=\"/lend/images/grad_web thumbnail.png\" /> </a> <a class=\"d-block col-6\" href=\"https://youtu.be/BACQWb7NzoE\" target=\"_blank\" id=\"self_advocate_perspective_video\"> <img alt=\"A self-advocate's perspective on LEND: YouTube link\" class=\"img-fluid\" src=\"/lend/images/self adv_web thumbnail.png\" /> </a> <a id=\"parent_perspective_video\" class=\"d-block col-6\" href=\"https://youtu.be/3rJdpz_b884\" target=\"_blank\"> <img alt=\"A parent's perspective on LEND: YouTube link\" class=\"img-fluid\" src=\"/lend/images/parent_web thumbnail.png\" /> </a> <a class=\"d-block col-6\" id=\"professional_perspective_video\" href=\"https://youtu.be/YjcsdKi3bPU\" target=\"_blank\"> <img alt=\"A professional's perspective on LEND: YouTube link\" class=\"img-fluid\" src=\"/lend/images/profes_web thumbnail.png\" /> </a></div>             </div>         </section>          <section aria-labelledby=\"who_should_apply_heading\">             <p><img alt=\"Who should apply to LEND: Student, professional, self-advocate, parent\" src=\"/lend/images/lend%20who%20should%20apply.png?2/23/2022%202:38:47%20pm\" style=\"height: 129px; width: 600px;\" /></p>              <h2 id=\"who_should_apply_heading\">Who should apply to LEND?</h2>              <ul>                 <li id=\"graduatestudents_desc\"><strong>Graduate Students</strong> (in at least second year of program) interested in becoming leaders in diverse fields such as: Education, Early Childhood, Special Education, Audiology, Medicine, Nursing, Occupational Therapy, Physical Therapy, Psychology, Public Health, Social Work, Speech Language Pathology, and Others</li>                 <li id=\"professionals_desc\"><strong>Practicing Professionals</strong> in fields related to healthcare, special education, ASD/NDD/DD, or other related areas.</li>                 <li id=\"self_family_desc\"><strong>Self-Advocates &#38; Family Members</strong> interested in becoming better informed leaders and more effective advocates.</li>             </ul>         </section>     </div> </main>\n"
     ]
    }
   ],
   "source": [
    "from bs4 import BeautifulSoup, Tag\n",
    "raw_input = input(\"Enter HTML:\")\n",
    "print(raw_input)"
   ]
  },
  {
   "cell_type": "code",
   "execution_count": 41,
   "metadata": {},
   "outputs": [],
   "source": [
    "soup = BeautifulSoup(raw_input, \"html.parser\")"
   ]
  },
  {
   "cell_type": "markdown",
   "metadata": {},
   "source": []
  },
  {
   "cell_type": "code",
   "execution_count": 42,
   "metadata": {},
   "outputs": [
    {
     "name": "stdout",
     "output_type": "stream",
     "text": [
      "<div role=\"row\">\n",
      " <div class=\"col col-md-3\" role=\"gridcell\">\n",
      "  <a href=\"https://youtu.be/iZYnKInG5zU\" id=\"graduate_perspective_video\" target=\"_blank\">\n",
      "   <img alt=\"Graduate students' perspectives on LEND: YouTube link\" class=\"img-fluid\" src=\"/lend/images/grad_web thumbnail.png\"/>\n",
      "  </a>\n",
      " </div>\n",
      " <div class=\"col\" role=\"gridcell\">\n",
      "  <strong>\n",
      "   Graduate Students\n",
      "  </strong>\n",
      "  (in at least second year of program) interested in becoming leaders in diverse fields such as: Education, Early Childhood, Special Education, Audiology, Medicine, Nursing, Occupational Therapy, Physical Therapy, Psychology, Public Health, Social Work, Speech Language Pathology, and Others\n",
      " </div>\n",
      "</div>\n"
     ]
    }
   ],
   "source": [
    "who_should_apply_grid = soup.new_tag(\"div\", role=\"grid\")\n",
    "who_should_apply_grid[\"class\"] = [\"container-fluid\", \"mt-3\", \"mb-3\"]\n",
    "who_should_apply_grid[\"aria-colcount\"] = \"2\"\n",
    "graduate_students_row = soup.new_tag(\"div\", role=\"row\")\n",
    "graduate_perspective_video = soup.new_tag(\"div\", role=\"gridcell\")\n",
    "graduate_perspective_video[\"class\"] = [\"col\", \"col-md-3\"]\n",
    "graduate_students_video_link = soup.find(id=\"graduate_perspective_video\")\n",
    "del graduate_students_video_link[\"class\"]\n",
    "graduate_perspective_video.append(graduate_students_video_link)\n",
    "graduate_students_row.append(graduate_perspective_video)\n",
    "graduate_students_desc = soup.new_tag(\"div\", role=\"gridcell\")\n",
    "graduate_students_desc[\"class\"] = \"col\"\n",
    "for element in list(soup.find(id=\"graduatestudents_desc\").children):\n",
    "    graduate_students_desc.append(element)\n",
    "graduate_students_row.append(graduate_students_desc)\n",
    "print(graduate_students_row.prettify())"
   ]
  },
  {
   "cell_type": "code",
   "execution_count": 43,
   "outputs": [
    {
     "name": "stdout",
     "output_type": "stream",
     "text": [
      "<div role=\"row\">\n",
      " <div class=\"col col-md-3\" role=\"gridcell\">\n",
      "  <a href=\"https://youtu.be/BACQWb7NzoE\" id=\"self_advocate_perspective_video\" target=\"_blank\">\n",
      "   <img alt=\"A self-advocate's perspective on LEND: YouTube link\" class=\"img-fluid\" src=\"/lend/images/self adv_web thumbnail.png\"/>\n",
      "  </a>\n",
      " </div>\n",
      " <div class=\"col\" role=\"gridcell\">\n",
      "  <strong>\n",
      "   Self-advocates\n",
      "  </strong>\n",
      "  interested in becoming better informed leaders and more effective advocates.\n",
      " </div>\n",
      "</div>\n"
     ]
    }
   ],
   "source": [
    "import copy\n",
    "self_advocates_row = soup.new_tag(\"div\", role=\"row\")\n",
    "self_advocates_video = soup.new_tag(\"div\", role=\"gridcell\")\n",
    "self_advocates_video[\"class\"] = [\"col\", \"col-md-3\"]\n",
    "self_advocates_video_link = soup.find(id=\"self_advocate_perspective_video\")\n",
    "del self_advocates_video_link[\"class\"]\n",
    "self_advocates_video.append(self_advocates_video_link)\n",
    "self_advocates_row.append(self_advocates_video)\n",
    "self_advocates_list_desc = [copy.copy(element) for element in soup.find(id=\"self_family_desc\").children]\n",
    "parents_list_desc = [copy.copy(element) for element in self_advocates_list_desc]\n",
    "for element in self_advocates_list_desc:\n",
    "    if isinstance(element, Tag) and element.name == \"strong\":\n",
    "        element.string = \"Self-advocates\"\n",
    "        break\n",
    "for element in parents_list_desc:\n",
    "    if isinstance(element, Tag) and element.name == \"strong\":\n",
    "        element.string = \"Family members of individuals with disabilities\"\n",
    "        break\n",
    "self_advocates_desc = soup.new_tag(\"div\", role=\"gridcell\")\n",
    "self_advocates_desc[\"class\"] = [\"col\"]\n",
    "self_advocates_desc.extend(self_advocates_list_desc)\n",
    "self_advocates_row.append(self_advocates_desc)\n",
    "print(self_advocates_row.prettify())"
   ],
   "metadata": {
    "collapsed": false
   }
  },
  {
   "cell_type": "code",
   "execution_count": 44,
   "outputs": [
    {
     "name": "stdout",
     "output_type": "stream",
     "text": [
      "<div role=\"row\">\n",
      " <div class=\"col col-md-3\" role=\"gridcell\">\n",
      "  <a href=\"https://youtu.be/3rJdpz_b884\" id=\"parent_perspective_video\" target=\"_blank\">\n",
      "   <img alt=\"A parent's perspective on LEND: YouTube link\" class=\"img-fluid\" src=\"/lend/images/parent_web thumbnail.png\"/>\n",
      "  </a>\n",
      " </div>\n",
      " <div class=\"col\" role=\"gridcell\">\n",
      "  <strong>\n",
      "   Family members of individuals with disabilities\n",
      "  </strong>\n",
      "  interested in becoming better informed leaders and more effective advocates.\n",
      " </div>\n",
      "</div>\n"
     ]
    }
   ],
   "source": [
    "parents_row = soup.new_tag(\"div\", role=\"row\")\n",
    "parents_video = soup.new_tag(\"div\", role=\"gridcell\")\n",
    "parents_video[\"class\"] = [\"col\", \"col-md-3\"]\n",
    "parents_video_link = soup.find(id=\"parent_perspective_video\")\n",
    "del parents_video_link[\"class\"]\n",
    "parents_video.append(parents_video_link)\n",
    "parents_row.append(parents_video)\n",
    "parents_video_desc = soup.new_tag(\"div\", role=\"gridcell\")\n",
    "parents_video_desc[\"class\"] = [\"col\"]\n",
    "parents_video_desc.extend(parents_list_desc)\n",
    "parents_row.append(parents_video_desc)\n",
    "print(parents_row.prettify())"
   ],
   "metadata": {
    "collapsed": false
   }
  },
  {
   "cell_type": "code",
   "execution_count": 45,
   "outputs": [
    {
     "name": "stdout",
     "output_type": "stream",
     "text": [
      "<div role=\"row\">\n",
      " <div class=\"col col-md-5\" role=\"gridcell\">\n",
      "  <a href=\"https://youtu.be/YjcsdKi3bPU\" id=\"professional_perspective_video\" target=\"_blank\">\n",
      "   <img alt=\"A professional's perspective on LEND: YouTube link\" class=\"img-fluid\" src=\"/lend/images/profes_web thumbnail.png\"/>\n",
      "  </a>\n",
      " </div>\n",
      " <div class=\"col\" role=\"gridcell\">\n",
      "  <strong>\n",
      "   Practicing Professionals\n",
      "  </strong>\n",
      "  in fields related to healthcare, special education, ASD/NDD/DD, or other related areas.\n",
      " </div>\n",
      "</div>\n"
     ]
    }
   ],
   "source": [
    "professionals_row = soup.new_tag(\"div\", role=\"row\")\n",
    "professionals_video = soup.new_tag(\"div\", role=\"gridcell\")\n",
    "professionals_video[\"class\"] = [\"col\", \"col-md-5\"]\n",
    "professionals_video_link = soup.find(id=\"professional_perspective_video\")\n",
    "del professionals_video_link[\"class\"]\n",
    "professionals_video.append(professionals_video_link)\n",
    "professionals_row.append(professionals_video)\n",
    "professionals_desc = soup.new_tag(\"div\", role=\"gridcell\")\n",
    "professionals_desc[\"class\"] = [\"col\"]\n",
    "professionals_desc.extend([element for element in soup.find(id=\"professionals_desc\").children])\n",
    "professionals_row.append(professionals_desc)\n",
    "print(professionals_row.prettify())"
   ],
   "metadata": {
    "collapsed": false
   }
  },
  {
   "cell_type": "code",
   "execution_count": 46,
   "outputs": [
    {
     "name": "stdout",
     "output_type": "stream",
     "text": [
      "<div aria-colcount=\"2\" class=\"container-fluid mt-3 mb-3\" role=\"grid\">\n",
      " <div class=\"row mt-5 mb-5\" role=\"row\">\n",
      "  <div class=\"col col-md-3\" role=\"gridcell\">\n",
      "   <a href=\"https://youtu.be/iZYnKInG5zU\" id=\"graduate_perspective_video\" target=\"_blank\">\n",
      "    <img alt=\"Graduate students' perspectives on LEND: YouTube link\" class=\"img-fluid\" src=\"/lend/images/grad_web thumbnail.png\"/>\n",
      "   </a>\n",
      "  </div>\n",
      "  <div class=\"col\" role=\"gridcell\">\n",
      "   <strong>\n",
      "    Graduate Students\n",
      "   </strong>\n",
      "   (in at least second year of program) interested in becoming leaders in diverse fields such as: Education, Early Childhood, Special Education, Audiology, Medicine, Nursing, Occupational Therapy, Physical Therapy, Psychology, Public Health, Social Work, Speech Language Pathology, and Others\n",
      "  </div>\n",
      " </div>\n",
      " <div class=\"row mt-5 mb-5\" role=\"row\">\n",
      "  <div class=\"col col-md-3\" role=\"gridcell\">\n",
      "   <a href=\"https://youtu.be/BACQWb7NzoE\" id=\"self_advocate_perspective_video\" target=\"_blank\">\n",
      "    <img alt=\"A self-advocate's perspective on LEND: YouTube link\" class=\"img-fluid\" src=\"/lend/images/self adv_web thumbnail.png\"/>\n",
      "   </a>\n",
      "  </div>\n",
      "  <div class=\"col\" role=\"gridcell\">\n",
      "   <strong>\n",
      "    Self-advocates\n",
      "   </strong>\n",
      "   interested in becoming better informed leaders and more effective advocates.\n",
      "  </div>\n",
      " </div>\n",
      " <div class=\"row mt-5 mb-5\" role=\"row\">\n",
      "  <div class=\"col col-md-3\" role=\"gridcell\">\n",
      "   <a href=\"https://youtu.be/3rJdpz_b884\" id=\"parent_perspective_video\" target=\"_blank\">\n",
      "    <img alt=\"A parent's perspective on LEND: YouTube link\" class=\"img-fluid\" src=\"/lend/images/parent_web thumbnail.png\"/>\n",
      "   </a>\n",
      "  </div>\n",
      "  <div class=\"col\" role=\"gridcell\">\n",
      "   <strong>\n",
      "    Family members of individuals with disabilities\n",
      "   </strong>\n",
      "   interested in becoming better informed leaders and more effective advocates.\n",
      "  </div>\n",
      " </div>\n",
      " <div class=\"row mt-5 mb-5\" role=\"row\">\n",
      "  <div class=\"col col-md-5\" role=\"gridcell\">\n",
      "   <a href=\"https://youtu.be/YjcsdKi3bPU\" id=\"professional_perspective_video\" target=\"_blank\">\n",
      "    <img alt=\"A professional's perspective on LEND: YouTube link\" class=\"img-fluid\" src=\"/lend/images/profes_web thumbnail.png\"/>\n",
      "   </a>\n",
      "  </div>\n",
      "  <div class=\"col\" role=\"gridcell\">\n",
      "   <strong>\n",
      "    Practicing Professionals\n",
      "   </strong>\n",
      "   in fields related to healthcare, special education, ASD/NDD/DD, or other related areas.\n",
      "  </div>\n",
      " </div>\n",
      "</div>\n"
     ]
    }
   ],
   "source": [
    "soup.find(class_=\"gy-3\").parent.decompose()\n",
    "for element in [graduate_students_row, self_advocates_row, parents_row, professionals_row]:\n",
    "    element[\"class\"] = [\"row\", \"mt-5\", \"mb-5\"]\n",
    "    who_should_apply_grid.append(element)\n",
    "print(who_should_apply_grid.prettify())\n"
   ],
   "metadata": {
    "collapsed": false
   }
  },
  {
   "cell_type": "code",
   "execution_count": 47,
   "outputs": [
    {
     "name": "stdout",
     "output_type": "stream",
     "text": [
      "<link href=\"/css/hdc_style_utils.css\" rel=\"stylesheet\" type=\"text/css\"/>\n",
      "<script src=\"/js/moment-with-locales.min.js\">\n",
      "</script>\n",
      "<script src=\"/js/iframe-resizer-master/js/iframeResizer.min.js\">\n",
      "</script>\n",
      "<main aria-labelledby=\"lend_heading\">\n",
      " <div class=\"textContainer\" data-ng-controller=\"lendHomepageController\">\n",
      "  <h1 id=\"lend_heading\">\n",
      "   Louisiana LEND\n",
      "  </h1>\n",
      "  <p>\n",
      "   <img alt=\"Child having fun with two scholars\" src=\"/lend/images/img_6450 blur background.png\" style=\"width: 600px; height: 390px;\"/>\n",
      "  </p>\n",
      "  <p class=\"h3 blue-byline\">\n",
      "   Preparing future leaders to prioritize the needs of children with ASD and other developmental disabilities through advocacy, family engagement, and Maternal Child Health principles.\n",
      "  </p>\n",
      "  <p class=\"h3 blue-byline\">\n",
      "  </p>\n",
      "  <section aria-labelledby=\"lend_applications_open_heading\">\n",
      "   <div style=\"background:#eee;border:1px solid #ccc;padding:5px 10px;\">\n",
      "    <h2 class=\"h3 blue-byline\" id=\"lend_applications_open_heading\">\n",
      "     LEND 2023-2024 Applications Now Open!!!\n",
      "    </h2>\n",
      "    <p>\n",
      "     LEND applications for the 2023-2024 cohort are due on April 15, 2023.\n",
      "    </p>\n",
      "    <p>\n",
      "     <a class=\"btn btn-lg btn-primary\" href=\"https://www.jotform.com/assign/220185508752153/230676139700051\" target=\"_blank\">\n",
      "      Apply for LEND\n",
      "     </a>\n",
      "    </p>\n",
      "    <p>\n",
      "     Not sure if LEND is right for you?\n",
      "    </p>\n",
      "    <p>\n",
      "     <a class=\"btn btn-lg btn-primary\" href=\"https://form.jotform.com/230383686095161\" target=\"_blank\">\n",
      "      Express Interest in LEND\n",
      "     </a>\n",
      "    </p>\n",
      "   </div>\n",
      "   <p style=\"margin-top: 3em;\">\n",
      "    <iframe allow=\"autoplay; fullscreen\" allowfullscreen=\"\" frameborder=\"0\" height=\"315\" id=\"iframe_container\" mozallowfullscreen=\"\" src=\"https://prezi.com/v/embed/yf_jxmtxcppw/\" webkitallowfullscreen=\"\" width=\"560\">\n",
      "    </iframe>\n",
      "   </p>\n",
      "  </section>\n",
      "  <section aria-labelledby=\"what_is_lend_heading\">\n",
      "   <h2 id=\"what_is_lend_heading\">\n",
      "    What is LEND?\n",
      "   </h2>\n",
      "   <p>\n",
      "    The Leadership Education in Neurodevelopmental and Related Disabilities (LEND) is a nine-month interdisciplinary training program that incorporates both didactic and experiential learning in clinical and community-based settings. LA LEND prepares graduate students, family members, self-advocates, and practicing professionals to become future leaders in designing and implementing services, policies, advocacy, and consuming/conducting research and evaluation addressing the needs and priorities of children with autism spectrum disorders (ASD), other neurodevelopmental disabilities (NDD) and developmental disabilities (DD) and their families.\n",
      "   </p>\n",
      "   <iframe allow=\"accelerometer; autoplay; clipboard-write; encrypted-media; gyroscope; picture-in-picture; web-share\" allowfullscreen=\"allowfullscreen\" frameborder=\"0\" height=\"315\" src=\"https://www.youtube.com/embed/videoseries?list=PLIHGRoeOVB1Ps_wAfF-EXETZoRJHbjupv\" title=\"YouTube video player\" width=\"560\">\n",
      "   </iframe>\n",
      "   <p>\n",
      "    There are\n",
      "    <a href=\"https://mchb.hrsa.gov/training/projects.asp?program=9\" target=\"_blank\">\n",
      "     60 LEND programs\n",
      "    </a>\n",
      "    in every state, the District of Columbia, the United States Virgin Islands, Puerto Rico, and six Pacific Basin jurisdictions, either as an awardee or in partnership with a LEND program. As a LEND scholar, you will be connected to a national network of other programs throughout the nation. The Human Development Center leads the Louisiana LEND program.\n",
      "    <a href=\"https://www.aucd.org/template/page.cfm?id=473\" target=\"_blank\">\n",
      "     Learn more about the LEND programs from the Association of University Centers on Disabilities (AUCD) here\n",
      "    </a>\n",
      "    .\n",
      "   </p>\n",
      "   <figure class=\"bg-light p-3\">\n",
      "    <blockquote>\n",
      "     <p>\n",
      "      “Too often professionals and parents do things to just get by, thereby perpetuating the status quo. If we are going to move the disability community forward, it’s imperative that we do so with the highest standards and I believe LEND supports that.\n",
      "     </p>\n",
      "    </blockquote>\n",
      "    <figcaption class=\"blockquote-footer text-primary\">\n",
      "     Nicole DeJean, 2021 LEND scholar\n",
      "    </figcaption>\n",
      "   </figure>\n",
      "   <p>\n",
      "    LEND improves your knowledge and skills related to:\n",
      "   </p>\n",
      "   <ul>\n",
      "    <li>\n",
      "     <em>\n",
      "      Autism Spectrum Disorder(ASD) other Neuro- and Developmental Disabilities (NDD/DD)\n",
      "     </em>\n",
      "    </li>\n",
      "    <li>\n",
      "     <em>\n",
      "      Social Determinants of Health\n",
      "     </em>\n",
      "    </li>\n",
      "    <li>\n",
      "     <em>\n",
      "      Life Course Theory\n",
      "     </em>\n",
      "    </li>\n",
      "    <li>\n",
      "     <em>\n",
      "      Interdisciplinary thinking and practice\n",
      "     </em>\n",
      "    </li>\n",
      "    <li>\n",
      "     <em>\n",
      "      Family- and person-centered care\n",
      "     </em>\n",
      "    </li>\n",
      "    <li>\n",
      "     <em>\n",
      "      Leadership\n",
      "     </em>\n",
      "     <em>\n",
      "      and advocacy skills\n",
      "     </em>\n",
      "    </li>\n",
      "   </ul>\n",
      "  </section>\n",
      "  <section aria-labelledby=\"who_should_apply_heading\">\n",
      "   <p>\n",
      "    <img alt=\"Who should apply to LEND: Student, professional, self-advocate, parent\" src=\"/lend/images/lend%20who%20should%20apply.png?2/23/2022%202:38:47%20pm\" style=\"height: 129px; width: 600px;\"/>\n",
      "   </p>\n",
      "   <h2 id=\"who_should_apply_heading\">\n",
      "    Who should apply to LEND?\n",
      "   </h2>\n",
      "   <div aria-colcount=\"2\" class=\"container-fluid mt-3 mb-3\" role=\"grid\">\n",
      "    <div class=\"row mt-5 mb-5\" role=\"row\">\n",
      "     <div class=\"col col-md-3\" role=\"gridcell\">\n",
      "      <a href=\"https://youtu.be/iZYnKInG5zU\" id=\"graduate_perspective_video\" target=\"_blank\">\n",
      "       <img alt=\"Graduate students' perspectives on LEND: YouTube link\" class=\"img-fluid\" src=\"/lend/images/grad_web thumbnail.png\"/>\n",
      "      </a>\n",
      "     </div>\n",
      "     <div class=\"col\" role=\"gridcell\">\n",
      "      <strong>\n",
      "       Graduate Students\n",
      "      </strong>\n",
      "      (in at least second year of program) interested in becoming leaders in diverse fields such as: Education, Early Childhood, Special Education, Audiology, Medicine, Nursing, Occupational Therapy, Physical Therapy, Psychology, Public Health, Social Work, Speech Language Pathology, and Others\n",
      "     </div>\n",
      "    </div>\n",
      "    <div class=\"row mt-5 mb-5\" role=\"row\">\n",
      "     <div class=\"col col-md-3\" role=\"gridcell\">\n",
      "      <a href=\"https://youtu.be/BACQWb7NzoE\" id=\"self_advocate_perspective_video\" target=\"_blank\">\n",
      "       <img alt=\"A self-advocate's perspective on LEND: YouTube link\" class=\"img-fluid\" src=\"/lend/images/self adv_web thumbnail.png\"/>\n",
      "      </a>\n",
      "     </div>\n",
      "     <div class=\"col\" role=\"gridcell\">\n",
      "      <strong>\n",
      "       Self-advocates\n",
      "      </strong>\n",
      "      interested in becoming better informed leaders and more effective advocates.\n",
      "     </div>\n",
      "    </div>\n",
      "    <div class=\"row mt-5 mb-5\" role=\"row\">\n",
      "     <div class=\"col col-md-3\" role=\"gridcell\">\n",
      "      <a href=\"https://youtu.be/3rJdpz_b884\" id=\"parent_perspective_video\" target=\"_blank\">\n",
      "       <img alt=\"A parent's perspective on LEND: YouTube link\" class=\"img-fluid\" src=\"/lend/images/parent_web thumbnail.png\"/>\n",
      "      </a>\n",
      "     </div>\n",
      "     <div class=\"col\" role=\"gridcell\">\n",
      "      <strong>\n",
      "       Family members of individuals with disabilities\n",
      "      </strong>\n",
      "      interested in becoming better informed leaders and more effective advocates.\n",
      "     </div>\n",
      "    </div>\n",
      "    <div class=\"row mt-5 mb-5\" role=\"row\">\n",
      "     <div class=\"col col-md-5\" role=\"gridcell\">\n",
      "      <a href=\"https://youtu.be/YjcsdKi3bPU\" id=\"professional_perspective_video\" target=\"_blank\">\n",
      "       <img alt=\"A professional's perspective on LEND: YouTube link\" class=\"img-fluid\" src=\"/lend/images/profes_web thumbnail.png\"/>\n",
      "      </a>\n",
      "     </div>\n",
      "     <div class=\"col\" role=\"gridcell\">\n",
      "      <strong>\n",
      "       Practicing Professionals\n",
      "      </strong>\n",
      "      in fields related to healthcare, special education, ASD/NDD/DD, or other related areas.\n",
      "     </div>\n",
      "    </div>\n",
      "   </div>\n",
      "  </section>\n",
      " </div>\n",
      "</main>\n"
     ]
    }
   ],
   "source": [
    "soup.find(id=\"graduatestudents_desc\").parent.replace_with(who_should_apply_grid)\n",
    "print(soup.prettify())"
   ],
   "metadata": {
    "collapsed": false
   }
  },
  {
   "cell_type": "markdown",
   "metadata": {},
   "source": []
  }
 ],
 "metadata": {
  "kernelspec": {
   "display_name": "Python 3 (ipykernel)",
   "language": "python",
   "name": "python3"
  },
  "language_info": {
   "codemirror_mode": {
    "name": "ipython",
    "version": 3
   },
   "file_extension": ".py",
   "mimetype": "text/x-python",
   "name": "python",
   "nbconvert_exporter": "python",
   "pygments_lexer": "ipython3",
   "version": "3.9.13"
  }
 },
 "nbformat": 4,
 "nbformat_minor": 1
}
