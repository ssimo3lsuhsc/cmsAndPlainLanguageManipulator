{
 "cells": [
  {
   "cell_type": "code",
   "execution_count": 4,
   "metadata": {
    "collapsed": true
   },
   "outputs": [
    {
     "name": "stdout",
     "output_type": "stream",
     "text": [
      "<p><img alt=\"logo\" src=\"/images/logo.jpg\" style=\"width: 580px; height: 114px;\" /></p>  <h1>About the Human Development Center</h1>  <h2>What is the Human Development Center (HDC)?</h2>  <p>The Mission of the Human Development Center (HDC) is to provide leadership and innovation in interdisciplinary education, community service, research, and to disseminate information to strengthen and increase the capacity of local communities to support and include individuals with developmental disabilities and their families in all aspects of life in the community.</p>  <p>The Human Development Center (HDC) was established in 1974 and became a University Center of Excellence in Developmental Disabilities, Education, Research and Service (UCEDD) in 1984.</p>  <div aria-owns=\"hdc-key-list-2 hdc-key-list-3 hdc-key-list-4 hdc-key-list-5 hdc-key-list-6 hdc-key-list-7\" class=\"container-fluid mt-3 mb-3\" role=\"list\"> <div class=\"row\"> <div class=\"col col-md-3\"><img alt=\"HDC is a University Center for Excellence\" class=\"img-fluid\" src=\"/images/01 hdc is a university center for excellence.png\" /></div>  <div class=\"col\" id=\"hdc-key-list-2\" role=\"listitem\">HDC is a <strong> University Center for Excellence in Developmental Disabilities (UCEDD) </strong> .</div> </div>  <div class=\"row\"> <div class=\"col col-md-3\"><img alt=\"There are UCEDDs in every state\" class=\"img-fluid\" src=\"/images/02 there are ucedds in every state.png\" /></div>  <div class=\"col\" id=\"hdc-key-list-3\" role=\"listitem\">There are UCEDDs in every state. <strong> HDC is Louisiana&#39;s UCEDD. </strong></div> </div>  <div class=\"row\"> <div class=\"col col-md-3\"><img alt=\"UCEDDs work with people with disabilities\" class=\"img-fluid\" src=\"/images/03 ucedds work with people with disabilities.png\" /></div>  <div class=\"col\" id=\"hdc-key-list-4\" role=\"listitem\">UCEDDs work with <strong> people with disabilities, </strong> their <strong> family members, service providers, </strong> the <strong> community, </strong> and the <strong> government. </strong></div> </div>  <div class=\"row\"> <div class=\"col col-md-3\"><img alt=\"HDC provides training, provides expert\" class=\"img-fluid\" src=\"/images/04 hdc offers trainings, provides expert information.png\" /></div>  <div class=\"col\" id=\"hdc-key-list-5\" role=\"listitem\">HDC offers trainings, provides expert information, and does research. HDC shares information to help people with disabilities to <strong> live and fully participate in the community. </strong></div> </div>  <div class=\"row\"> <div class=\"col col-md-3\"><img alt=\"HDC is located at LSU Health Sciences Center\" class=\"img-fluid\" src=\"/images/05 hdc is located at lsu health sciences center.png\" /></div>  <div class=\"col\" id=\"hdc-key-list-6\" role=\"listitem\">HDC is located at LSU Health Sciences Center in New Orleans. HDC services are state-wide.</div> </div>  <div class=\"row\"> <div class=\"col col-md-3\"><img alt=\"HDC is a part of the AUCD Network\" class=\"img-fluid\" src=\"https://www.aucd.org/images2/logos/final_aucd_logos/aucd_no_words_500w.jpg\" /></div>  <div class=\"col\" id=\"hdc-key-list-7\" role=\"listitem\">HDC is a part of the AUCD Network. The <dfn class=\"fst-normal fw-bold\"> Association of University Centers on Disabilities (AUCD) </dfn> is made up of university centers across the United States.</div> </div> </div>  <h2>Whom does HDC help?</h2>  <div class=\"container-fluid mt-3 mb-3\" role=\"list\"> <div class=\"row\"> <div class=\"col col-md-3\"><img alt=\"Individuals with Disabilities\" class=\"img-fluid\" src=\"/images/01 individuals with disabilities.png\" /></div>  <div class=\"col\" role=\"listitem\"> <p class=\"fw-bold\" id=\"hdc-helps-list-1\" role=\"term\">Individuals with disabilities</p>  <p aria-labelledby=\"hdc-helps-list-1\" role=\"definition\">Some HDC projects connect individuals with disabilities to resources and services that help them grow and be a part of the community.</p>  <p><a class=\"btn btn-primary\" href=\"/plain_language_individuals_with_disabilities.aspx\">Click here to see HDC resources that help individuals with disabilities </a></p> </div> </div>  <div class=\"row\"> <div class=\"col col-md-3\"><img alt=\"Families\" class=\"img-fluid\" src=\"/images/02 families.png\" /></div>  <div class=\"col\" role=\"listitem\"> <p class=\"fw-bold\" id=\"hdc-helps-list-2\" role=\"term\">Families</p>  <p aria-labelledby=\"hdc-helps-list-2\" role=\"definition\">Some HDC projects help families of individuals with disabilities. HDC offers families referrals to agencies and support advocating for their child.</p>  <p><a class=\"btn btn-primary\" href=\"/plain_language_families.aspx\">Click here to see HDC resources that help families </a></p> </div> </div>  <div class=\"row\"> <div class=\"col col-md-3\"><img alt=\"Educators\" class=\"img-fluid\" src=\"/images/03 educators.png\" /></div>  <div class=\"col\" role=\"listitem\"> <p class=\"fw-bold\" id=\"hdc-helps-list-3\" role=\"term\">Educators</p>  <p aria-labelledby=\"hdc-helps-list-3\" role=\"definition\">Some HDC projects help teachers and school administrators support students with disabilities.Some HDC projects teach college students how to better serve clients with disabilities in their future careers.Some HDC projects teach college students how to better serve clients with disabilities in their future careers.</p>  <p><a class=\"btn btn-primary\" href=\"/plain_language_educators.aspx\">Click here to see HDC resources that help educators </a></p> </div> </div>  <div class=\"row\"> <div class=\"col col-md-3\"><img alt=\"Graduate Students\" class=\"img-fluid\" src=\"/images/04 graduate students.png\" /></div>  <div class=\"col\" role=\"listitem\"> <p class=\"fw-bold\" id=\"hdc-helps-list-4\" role=\"term\">Graduate Students</p>  <p aria-labelledby=\"hdc-helps-list-4\" role=\"definition\">Some HDC projects teach college students how to better serve clients with disabilities in their future careers.</p>  <p><a class=\"btn btn-primary\" href=\"/plain_language_graduate_students.aspx\">Click here to see HDC resources that help graduate students </a></p> </div> </div>  <div class=\"row\"> <div class=\"col col-md-3\"><img alt=\"Healthcare Professionals\" class=\"img-fluid\" src=\"/images/05 professionals.png\" /></div>  <div class=\"col\" role=\"listitem\"> <p class=\"fw-bold\" id=\"hdc-helps-list-5\" role=\"term\">Healthcare Professionals</p>  <p aria-labelledby=\"hdc-helps-list-5\" role=\"definition\">Some HDC projects help healthcare professionals better serve clients with disabilities and their families.</p>  <p><a class=\"btn btn-primary\" href=\"/plain_language_healthcare_professionals.aspx\">Click here to see HDC resources that help healthcare professionals </a></p> </div> </div> </div>  <h2>How does HDC help?</h2>  <p>HDC helps our disability community through 5 areas:</p>  <div class=\"container-fluid mt-3 mb-3\" role=\"list\"> <div class=\"row\"> <div class=\"col col-md-3\"><img alt=\"Early Childhood\" class=\"img-fluid\" src=\"/images/01 early childhood.png\" /></div>  <div class=\"col\" role=\"listitem\"> <p class=\"fw-bold\" id=\"hdc-how-list-1\" role=\"term\">Early Childhood</p>  <p aria-labelledby=\"hdc-how-list-1\" role=\"definition\">Some HDC projects help families and teachers of young children. These children can be 0 to 5 years old.</p> </div> </div>  <div class=\"row\"> <div class=\"col col-md-3\"><img alt=\"Education\" class=\"img-fluid\" src=\"/images/02 education.png\" /></div>  <div class=\"col\" role=\"listitem\"> <p class=\"fw-bold\" id=\"hdc-how-list-2\" role=\"term\">Education</p>  <p aria-labelledby=\"hdc-how-list-2\" role=\"definition\">Some HDC projects support students with disabilities and teachers from kindergarten to high school and education after high school.</p> </div> </div>  <div class=\"row\"> <div class=\"col col-md-3\"><img alt=\"Transition, Employment, Careers\" class=\"img-fluid\" src=\"/images/03 transition, employment, careers.png\" /></div>  <div class=\"col\" role=\"listitem\"> <p class=\"fw-bold\" id=\"hdc-how-list-3\" role=\"term\">Transition, Employment, Careers</p>  <p aria-labelledby=\"hdc-how-list-3\" role=\"definition\">Some HDC projects help young adults with disabilities get jobs and explore career paths. HDC projects help train and support employment support professionals. Some HDC projects also help people understand how their social security benefits are affected by employment.</p> </div> </div>  <div class=\"row\"> <div class=\"col col-md-3\"><img alt=\"Interdisciplinary Training\" class=\"img-fluid\" src=\"/images/04 interdisciplinary training.png\" /></div>  <div class=\"col\" role=\"listitem\"> <p class=\"fw-bold\" id=\"hdc-how-list-4\" role=\"term\">Interdisciplinary Training</p>  <p aria-labelledby=\"hdc-how-list-4\" role=\"definition\">Some HDC projects train people from different backgrounds to work together to better serve people with disabilities and their families.</p> </div>  <div class=\"row\"> <div class=\"col col-md-3\"><img alt=\"Health and Wellness\" class=\"img-fluid\" src=\"/images/05 health and wellness.png\" /></div>  <div class=\"col\" role=\"listitem\"> <p class=\"fw-bold\" id=\"hdc-how-list-5\" role=\"term\">Health and Wellness</p>  <p aria-labelledby=\"hdc-how-list-5\" role=\"definition\">Some HDC projects help communities stay physically and mentally healthy.</p> </div> </div> </div> </div>\n"
     ]
    }
   ],
   "source": [
    "from bs4 import BeautifulSoup, Tag\n",
    "raw_input = input(\"Enter HTML:\")\n",
    "print(raw_input)"
   ]
  },
  {
   "cell_type": "code",
   "execution_count": null,
   "outputs": [],
   "source": [],
   "metadata": {
    "collapsed": false
   }
  }
 ],
 "metadata": {
  "kernelspec": {
   "display_name": "Python 3",
   "language": "python",
   "name": "python3"
  },
  "language_info": {
   "codemirror_mode": {
    "name": "ipython",
    "version": 2
   },
   "file_extension": ".py",
   "mimetype": "text/x-python",
   "name": "python",
   "nbconvert_exporter": "python",
   "pygments_lexer": "ipython2",
   "version": "2.7.6"
  }
 },
 "nbformat": 4,
 "nbformat_minor": 0
}
